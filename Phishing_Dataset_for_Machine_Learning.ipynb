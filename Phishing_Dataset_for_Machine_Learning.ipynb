{
  "nbformat": 4,
  "nbformat_minor": 0,
  "metadata": {
    "colab": {
      "provenance": [],
      "authorship_tag": "ABX9TyNrONko0D94LoJy07rCxq3j",
      "include_colab_link": true
    },
    "kernelspec": {
      "name": "python3",
      "display_name": "Python 3"
    },
    "language_info": {
      "name": "python"
    }
  },
  "cells": [
    {
      "cell_type": "markdown",
      "metadata": {
        "id": "view-in-github",
        "colab_type": "text"
      },
      "source": [
        "<a href=\"https://colab.research.google.com/github/MustakimRifat/Phishing-Dataset-for-Machine-Learning/blob/main/Phishing_Dataset_for_Machine_Learning.ipynb\" target=\"_parent\"><img src=\"https://colab.research.google.com/assets/colab-badge.svg\" alt=\"Open In Colab\"/></a>"
      ]
    },
    {
      "cell_type": "code",
      "execution_count": 4,
      "metadata": {
        "id": "47mI110EsCTG"
      },
      "outputs": [],
      "source": [
        "import numpy as np\n",
        "import matplotlib.pyplot as plt\n",
        "import seaborn as sns\n",
        "from sklearn.model_selection import train_test_split\n",
        "from sklearn.preprocessing import StandardScaler\n",
        "import tensorflow as tf\n",
        "from tensorflow import keras\n",
        "import pandas as pd"
      ]
    },
    {
      "cell_type": "code",
      "source": [
        "df=pd.read_csv('/content/Phishing_Legitimate_full.csv')"
      ],
      "metadata": {
        "id": "sL8PlfGSs0Qh"
      },
      "execution_count": 5,
      "outputs": []
    },
    {
      "cell_type": "code",
      "source": [
        "df.head(10)"
      ],
      "metadata": {
        "colab": {
          "base_uri": "https://localhost:8080/",
          "height": 412
        },
        "id": "6Mf0T_9-s0NE",
        "outputId": "8fc28541-5c30-474c-e9f6-d9b2711d5e06"
      },
      "execution_count": 6,
      "outputs": [
        {
          "output_type": "execute_result",
          "data": {
            "text/plain": [
              "   id  NumDots  SubdomainLevel  PathLevel  UrlLength  NumDash  \\\n",
              "0   1        3               1          5         72        0   \n",
              "1   2        3               1          3        144        0   \n",
              "2   3        3               1          2         58        0   \n",
              "3   4        3               1          6         79        1   \n",
              "4   5        3               0          4         46        0   \n",
              "5   6        3               1          1         42        1   \n",
              "6   7        2               0          5         60        0   \n",
              "7   8        1               0          3         30        0   \n",
              "8   9        8               7          2         76        1   \n",
              "9  10        2               0          2         46        0   \n",
              "\n",
              "   NumDashInHostname  AtSymbol  TildeSymbol  NumUnderscore  ...  \\\n",
              "0                  0         0            0              0  ...   \n",
              "1                  0         0            0              2  ...   \n",
              "2                  0         0            0              0  ...   \n",
              "3                  0         0            0              0  ...   \n",
              "4                  0         0            0              0  ...   \n",
              "5                  0         0            0              0  ...   \n",
              "6                  0         0            0              0  ...   \n",
              "7                  0         0            0              0  ...   \n",
              "8                  1         0            0              0  ...   \n",
              "9                  0         0            0              0  ...   \n",
              "\n",
              "   IframeOrFrame  MissingTitle  ImagesOnlyInForm  SubdomainLevelRT  \\\n",
              "0              0             0                 1                 1   \n",
              "1              0             0                 0                 1   \n",
              "2              0             0                 0                 1   \n",
              "3              0             0                 0                 1   \n",
              "4              1             0                 0                 1   \n",
              "5              1             1                 0                 1   \n",
              "6              0             0                 0                 1   \n",
              "7              0             0                 0                 1   \n",
              "8              0             0                 0                -1   \n",
              "9              0             0                 0                 1   \n",
              "\n",
              "   UrlLengthRT  PctExtResourceUrlsRT  AbnormalExtFormActionR  \\\n",
              "0            0                     1                       1   \n",
              "1           -1                     1                       1   \n",
              "2            0                    -1                       1   \n",
              "3           -1                     1                       1   \n",
              "4            1                    -1                       0   \n",
              "5            1                     1                       1   \n",
              "6            0                     1                       1   \n",
              "7            1                     1                       1   \n",
              "8           -1                     1                       1   \n",
              "9            1                     1                       1   \n",
              "\n",
              "   ExtMetaScriptLinkRT  PctExtNullSelfRedirectHyperlinksRT  CLASS_LABEL  \n",
              "0                   -1                                   1            1  \n",
              "1                    1                                   1            1  \n",
              "2                   -1                                   0            1  \n",
              "3                    1                                  -1            1  \n",
              "4                   -1                                  -1            1  \n",
              "5                   -1                                   1            1  \n",
              "6                   -1                                  -1            1  \n",
              "7                    1                                   1            1  \n",
              "8                    1                                  -1            1  \n",
              "9                   -1                                  -1            1  \n",
              "\n",
              "[10 rows x 50 columns]"
            ],
            "text/html": [
              "\n",
              "  <div id=\"df-813920b0-8086-43b3-8d0a-79442d983ea8\" class=\"colab-df-container\">\n",
              "    <div>\n",
              "<style scoped>\n",
              "    .dataframe tbody tr th:only-of-type {\n",
              "        vertical-align: middle;\n",
              "    }\n",
              "\n",
              "    .dataframe tbody tr th {\n",
              "        vertical-align: top;\n",
              "    }\n",
              "\n",
              "    .dataframe thead th {\n",
              "        text-align: right;\n",
              "    }\n",
              "</style>\n",
              "<table border=\"1\" class=\"dataframe\">\n",
              "  <thead>\n",
              "    <tr style=\"text-align: right;\">\n",
              "      <th></th>\n",
              "      <th>id</th>\n",
              "      <th>NumDots</th>\n",
              "      <th>SubdomainLevel</th>\n",
              "      <th>PathLevel</th>\n",
              "      <th>UrlLength</th>\n",
              "      <th>NumDash</th>\n",
              "      <th>NumDashInHostname</th>\n",
              "      <th>AtSymbol</th>\n",
              "      <th>TildeSymbol</th>\n",
              "      <th>NumUnderscore</th>\n",
              "      <th>...</th>\n",
              "      <th>IframeOrFrame</th>\n",
              "      <th>MissingTitle</th>\n",
              "      <th>ImagesOnlyInForm</th>\n",
              "      <th>SubdomainLevelRT</th>\n",
              "      <th>UrlLengthRT</th>\n",
              "      <th>PctExtResourceUrlsRT</th>\n",
              "      <th>AbnormalExtFormActionR</th>\n",
              "      <th>ExtMetaScriptLinkRT</th>\n",
              "      <th>PctExtNullSelfRedirectHyperlinksRT</th>\n",
              "      <th>CLASS_LABEL</th>\n",
              "    </tr>\n",
              "  </thead>\n",
              "  <tbody>\n",
              "    <tr>\n",
              "      <th>0</th>\n",
              "      <td>1</td>\n",
              "      <td>3</td>\n",
              "      <td>1</td>\n",
              "      <td>5</td>\n",
              "      <td>72</td>\n",
              "      <td>0</td>\n",
              "      <td>0</td>\n",
              "      <td>0</td>\n",
              "      <td>0</td>\n",
              "      <td>0</td>\n",
              "      <td>...</td>\n",
              "      <td>0</td>\n",
              "      <td>0</td>\n",
              "      <td>1</td>\n",
              "      <td>1</td>\n",
              "      <td>0</td>\n",
              "      <td>1</td>\n",
              "      <td>1</td>\n",
              "      <td>-1</td>\n",
              "      <td>1</td>\n",
              "      <td>1</td>\n",
              "    </tr>\n",
              "    <tr>\n",
              "      <th>1</th>\n",
              "      <td>2</td>\n",
              "      <td>3</td>\n",
              "      <td>1</td>\n",
              "      <td>3</td>\n",
              "      <td>144</td>\n",
              "      <td>0</td>\n",
              "      <td>0</td>\n",
              "      <td>0</td>\n",
              "      <td>0</td>\n",
              "      <td>2</td>\n",
              "      <td>...</td>\n",
              "      <td>0</td>\n",
              "      <td>0</td>\n",
              "      <td>0</td>\n",
              "      <td>1</td>\n",
              "      <td>-1</td>\n",
              "      <td>1</td>\n",
              "      <td>1</td>\n",
              "      <td>1</td>\n",
              "      <td>1</td>\n",
              "      <td>1</td>\n",
              "    </tr>\n",
              "    <tr>\n",
              "      <th>2</th>\n",
              "      <td>3</td>\n",
              "      <td>3</td>\n",
              "      <td>1</td>\n",
              "      <td>2</td>\n",
              "      <td>58</td>\n",
              "      <td>0</td>\n",
              "      <td>0</td>\n",
              "      <td>0</td>\n",
              "      <td>0</td>\n",
              "      <td>0</td>\n",
              "      <td>...</td>\n",
              "      <td>0</td>\n",
              "      <td>0</td>\n",
              "      <td>0</td>\n",
              "      <td>1</td>\n",
              "      <td>0</td>\n",
              "      <td>-1</td>\n",
              "      <td>1</td>\n",
              "      <td>-1</td>\n",
              "      <td>0</td>\n",
              "      <td>1</td>\n",
              "    </tr>\n",
              "    <tr>\n",
              "      <th>3</th>\n",
              "      <td>4</td>\n",
              "      <td>3</td>\n",
              "      <td>1</td>\n",
              "      <td>6</td>\n",
              "      <td>79</td>\n",
              "      <td>1</td>\n",
              "      <td>0</td>\n",
              "      <td>0</td>\n",
              "      <td>0</td>\n",
              "      <td>0</td>\n",
              "      <td>...</td>\n",
              "      <td>0</td>\n",
              "      <td>0</td>\n",
              "      <td>0</td>\n",
              "      <td>1</td>\n",
              "      <td>-1</td>\n",
              "      <td>1</td>\n",
              "      <td>1</td>\n",
              "      <td>1</td>\n",
              "      <td>-1</td>\n",
              "      <td>1</td>\n",
              "    </tr>\n",
              "    <tr>\n",
              "      <th>4</th>\n",
              "      <td>5</td>\n",
              "      <td>3</td>\n",
              "      <td>0</td>\n",
              "      <td>4</td>\n",
              "      <td>46</td>\n",
              "      <td>0</td>\n",
              "      <td>0</td>\n",
              "      <td>0</td>\n",
              "      <td>0</td>\n",
              "      <td>0</td>\n",
              "      <td>...</td>\n",
              "      <td>1</td>\n",
              "      <td>0</td>\n",
              "      <td>0</td>\n",
              "      <td>1</td>\n",
              "      <td>1</td>\n",
              "      <td>-1</td>\n",
              "      <td>0</td>\n",
              "      <td>-1</td>\n",
              "      <td>-1</td>\n",
              "      <td>1</td>\n",
              "    </tr>\n",
              "    <tr>\n",
              "      <th>5</th>\n",
              "      <td>6</td>\n",
              "      <td>3</td>\n",
              "      <td>1</td>\n",
              "      <td>1</td>\n",
              "      <td>42</td>\n",
              "      <td>1</td>\n",
              "      <td>0</td>\n",
              "      <td>0</td>\n",
              "      <td>0</td>\n",
              "      <td>0</td>\n",
              "      <td>...</td>\n",
              "      <td>1</td>\n",
              "      <td>1</td>\n",
              "      <td>0</td>\n",
              "      <td>1</td>\n",
              "      <td>1</td>\n",
              "      <td>1</td>\n",
              "      <td>1</td>\n",
              "      <td>-1</td>\n",
              "      <td>1</td>\n",
              "      <td>1</td>\n",
              "    </tr>\n",
              "    <tr>\n",
              "      <th>6</th>\n",
              "      <td>7</td>\n",
              "      <td>2</td>\n",
              "      <td>0</td>\n",
              "      <td>5</td>\n",
              "      <td>60</td>\n",
              "      <td>0</td>\n",
              "      <td>0</td>\n",
              "      <td>0</td>\n",
              "      <td>0</td>\n",
              "      <td>0</td>\n",
              "      <td>...</td>\n",
              "      <td>0</td>\n",
              "      <td>0</td>\n",
              "      <td>0</td>\n",
              "      <td>1</td>\n",
              "      <td>0</td>\n",
              "      <td>1</td>\n",
              "      <td>1</td>\n",
              "      <td>-1</td>\n",
              "      <td>-1</td>\n",
              "      <td>1</td>\n",
              "    </tr>\n",
              "    <tr>\n",
              "      <th>7</th>\n",
              "      <td>8</td>\n",
              "      <td>1</td>\n",
              "      <td>0</td>\n",
              "      <td>3</td>\n",
              "      <td>30</td>\n",
              "      <td>0</td>\n",
              "      <td>0</td>\n",
              "      <td>0</td>\n",
              "      <td>0</td>\n",
              "      <td>0</td>\n",
              "      <td>...</td>\n",
              "      <td>0</td>\n",
              "      <td>0</td>\n",
              "      <td>0</td>\n",
              "      <td>1</td>\n",
              "      <td>1</td>\n",
              "      <td>1</td>\n",
              "      <td>1</td>\n",
              "      <td>1</td>\n",
              "      <td>1</td>\n",
              "      <td>1</td>\n",
              "    </tr>\n",
              "    <tr>\n",
              "      <th>8</th>\n",
              "      <td>9</td>\n",
              "      <td>8</td>\n",
              "      <td>7</td>\n",
              "      <td>2</td>\n",
              "      <td>76</td>\n",
              "      <td>1</td>\n",
              "      <td>1</td>\n",
              "      <td>0</td>\n",
              "      <td>0</td>\n",
              "      <td>0</td>\n",
              "      <td>...</td>\n",
              "      <td>0</td>\n",
              "      <td>0</td>\n",
              "      <td>0</td>\n",
              "      <td>-1</td>\n",
              "      <td>-1</td>\n",
              "      <td>1</td>\n",
              "      <td>1</td>\n",
              "      <td>1</td>\n",
              "      <td>-1</td>\n",
              "      <td>1</td>\n",
              "    </tr>\n",
              "    <tr>\n",
              "      <th>9</th>\n",
              "      <td>10</td>\n",
              "      <td>2</td>\n",
              "      <td>0</td>\n",
              "      <td>2</td>\n",
              "      <td>46</td>\n",
              "      <td>0</td>\n",
              "      <td>0</td>\n",
              "      <td>0</td>\n",
              "      <td>0</td>\n",
              "      <td>0</td>\n",
              "      <td>...</td>\n",
              "      <td>0</td>\n",
              "      <td>0</td>\n",
              "      <td>0</td>\n",
              "      <td>1</td>\n",
              "      <td>1</td>\n",
              "      <td>1</td>\n",
              "      <td>1</td>\n",
              "      <td>-1</td>\n",
              "      <td>-1</td>\n",
              "      <td>1</td>\n",
              "    </tr>\n",
              "  </tbody>\n",
              "</table>\n",
              "<p>10 rows × 50 columns</p>\n",
              "</div>\n",
              "    <div class=\"colab-df-buttons\">\n",
              "\n",
              "  <div class=\"colab-df-container\">\n",
              "    <button class=\"colab-df-convert\" onclick=\"convertToInteractive('df-813920b0-8086-43b3-8d0a-79442d983ea8')\"\n",
              "            title=\"Convert this dataframe to an interactive table.\"\n",
              "            style=\"display:none;\">\n",
              "\n",
              "  <svg xmlns=\"http://www.w3.org/2000/svg\" height=\"24px\" viewBox=\"0 -960 960 960\">\n",
              "    <path d=\"M120-120v-720h720v720H120Zm60-500h600v-160H180v160Zm220 220h160v-160H400v160Zm0 220h160v-160H400v160ZM180-400h160v-160H180v160Zm440 0h160v-160H620v160ZM180-180h160v-160H180v160Zm440 0h160v-160H620v160Z\"/>\n",
              "  </svg>\n",
              "    </button>\n",
              "\n",
              "  <style>\n",
              "    .colab-df-container {\n",
              "      display:flex;\n",
              "      gap: 12px;\n",
              "    }\n",
              "\n",
              "    .colab-df-convert {\n",
              "      background-color: #E8F0FE;\n",
              "      border: none;\n",
              "      border-radius: 50%;\n",
              "      cursor: pointer;\n",
              "      display: none;\n",
              "      fill: #1967D2;\n",
              "      height: 32px;\n",
              "      padding: 0 0 0 0;\n",
              "      width: 32px;\n",
              "    }\n",
              "\n",
              "    .colab-df-convert:hover {\n",
              "      background-color: #E2EBFA;\n",
              "      box-shadow: 0px 1px 2px rgba(60, 64, 67, 0.3), 0px 1px 3px 1px rgba(60, 64, 67, 0.15);\n",
              "      fill: #174EA6;\n",
              "    }\n",
              "\n",
              "    .colab-df-buttons div {\n",
              "      margin-bottom: 4px;\n",
              "    }\n",
              "\n",
              "    [theme=dark] .colab-df-convert {\n",
              "      background-color: #3B4455;\n",
              "      fill: #D2E3FC;\n",
              "    }\n",
              "\n",
              "    [theme=dark] .colab-df-convert:hover {\n",
              "      background-color: #434B5C;\n",
              "      box-shadow: 0px 1px 3px 1px rgba(0, 0, 0, 0.15);\n",
              "      filter: drop-shadow(0px 1px 2px rgba(0, 0, 0, 0.3));\n",
              "      fill: #FFFFFF;\n",
              "    }\n",
              "  </style>\n",
              "\n",
              "    <script>\n",
              "      const buttonEl =\n",
              "        document.querySelector('#df-813920b0-8086-43b3-8d0a-79442d983ea8 button.colab-df-convert');\n",
              "      buttonEl.style.display =\n",
              "        google.colab.kernel.accessAllowed ? 'block' : 'none';\n",
              "\n",
              "      async function convertToInteractive(key) {\n",
              "        const element = document.querySelector('#df-813920b0-8086-43b3-8d0a-79442d983ea8');\n",
              "        const dataTable =\n",
              "          await google.colab.kernel.invokeFunction('convertToInteractive',\n",
              "                                                    [key], {});\n",
              "        if (!dataTable) return;\n",
              "\n",
              "        const docLinkHtml = 'Like what you see? Visit the ' +\n",
              "          '<a target=\"_blank\" href=https://colab.research.google.com/notebooks/data_table.ipynb>data table notebook</a>'\n",
              "          + ' to learn more about interactive tables.';\n",
              "        element.innerHTML = '';\n",
              "        dataTable['output_type'] = 'display_data';\n",
              "        await google.colab.output.renderOutput(dataTable, element);\n",
              "        const docLink = document.createElement('div');\n",
              "        docLink.innerHTML = docLinkHtml;\n",
              "        element.appendChild(docLink);\n",
              "      }\n",
              "    </script>\n",
              "  </div>\n",
              "\n",
              "\n",
              "<div id=\"df-8e3d4e7a-cb69-4cb9-92f0-7485b540b37b\">\n",
              "  <button class=\"colab-df-quickchart\" onclick=\"quickchart('df-8e3d4e7a-cb69-4cb9-92f0-7485b540b37b')\"\n",
              "            title=\"Suggest charts\"\n",
              "            style=\"display:none;\">\n",
              "\n",
              "<svg xmlns=\"http://www.w3.org/2000/svg\" height=\"24px\"viewBox=\"0 0 24 24\"\n",
              "     width=\"24px\">\n",
              "    <g>\n",
              "        <path d=\"M19 3H5c-1.1 0-2 .9-2 2v14c0 1.1.9 2 2 2h14c1.1 0 2-.9 2-2V5c0-1.1-.9-2-2-2zM9 17H7v-7h2v7zm4 0h-2V7h2v10zm4 0h-2v-4h2v4z\"/>\n",
              "    </g>\n",
              "</svg>\n",
              "  </button>\n",
              "\n",
              "<style>\n",
              "  .colab-df-quickchart {\n",
              "      --bg-color: #E8F0FE;\n",
              "      --fill-color: #1967D2;\n",
              "      --hover-bg-color: #E2EBFA;\n",
              "      --hover-fill-color: #174EA6;\n",
              "      --disabled-fill-color: #AAA;\n",
              "      --disabled-bg-color: #DDD;\n",
              "  }\n",
              "\n",
              "  [theme=dark] .colab-df-quickchart {\n",
              "      --bg-color: #3B4455;\n",
              "      --fill-color: #D2E3FC;\n",
              "      --hover-bg-color: #434B5C;\n",
              "      --hover-fill-color: #FFFFFF;\n",
              "      --disabled-bg-color: #3B4455;\n",
              "      --disabled-fill-color: #666;\n",
              "  }\n",
              "\n",
              "  .colab-df-quickchart {\n",
              "    background-color: var(--bg-color);\n",
              "    border: none;\n",
              "    border-radius: 50%;\n",
              "    cursor: pointer;\n",
              "    display: none;\n",
              "    fill: var(--fill-color);\n",
              "    height: 32px;\n",
              "    padding: 0;\n",
              "    width: 32px;\n",
              "  }\n",
              "\n",
              "  .colab-df-quickchart:hover {\n",
              "    background-color: var(--hover-bg-color);\n",
              "    box-shadow: 0 1px 2px rgba(60, 64, 67, 0.3), 0 1px 3px 1px rgba(60, 64, 67, 0.15);\n",
              "    fill: var(--button-hover-fill-color);\n",
              "  }\n",
              "\n",
              "  .colab-df-quickchart-complete:disabled,\n",
              "  .colab-df-quickchart-complete:disabled:hover {\n",
              "    background-color: var(--disabled-bg-color);\n",
              "    fill: var(--disabled-fill-color);\n",
              "    box-shadow: none;\n",
              "  }\n",
              "\n",
              "  .colab-df-spinner {\n",
              "    border: 2px solid var(--fill-color);\n",
              "    border-color: transparent;\n",
              "    border-bottom-color: var(--fill-color);\n",
              "    animation:\n",
              "      spin 1s steps(1) infinite;\n",
              "  }\n",
              "\n",
              "  @keyframes spin {\n",
              "    0% {\n",
              "      border-color: transparent;\n",
              "      border-bottom-color: var(--fill-color);\n",
              "      border-left-color: var(--fill-color);\n",
              "    }\n",
              "    20% {\n",
              "      border-color: transparent;\n",
              "      border-left-color: var(--fill-color);\n",
              "      border-top-color: var(--fill-color);\n",
              "    }\n",
              "    30% {\n",
              "      border-color: transparent;\n",
              "      border-left-color: var(--fill-color);\n",
              "      border-top-color: var(--fill-color);\n",
              "      border-right-color: var(--fill-color);\n",
              "    }\n",
              "    40% {\n",
              "      border-color: transparent;\n",
              "      border-right-color: var(--fill-color);\n",
              "      border-top-color: var(--fill-color);\n",
              "    }\n",
              "    60% {\n",
              "      border-color: transparent;\n",
              "      border-right-color: var(--fill-color);\n",
              "    }\n",
              "    80% {\n",
              "      border-color: transparent;\n",
              "      border-right-color: var(--fill-color);\n",
              "      border-bottom-color: var(--fill-color);\n",
              "    }\n",
              "    90% {\n",
              "      border-color: transparent;\n",
              "      border-bottom-color: var(--fill-color);\n",
              "    }\n",
              "  }\n",
              "</style>\n",
              "\n",
              "  <script>\n",
              "    async function quickchart(key) {\n",
              "      const quickchartButtonEl =\n",
              "        document.querySelector('#' + key + ' button');\n",
              "      quickchartButtonEl.disabled = true;  // To prevent multiple clicks.\n",
              "      quickchartButtonEl.classList.add('colab-df-spinner');\n",
              "      try {\n",
              "        const charts = await google.colab.kernel.invokeFunction(\n",
              "            'suggestCharts', [key], {});\n",
              "      } catch (error) {\n",
              "        console.error('Error during call to suggestCharts:', error);\n",
              "      }\n",
              "      quickchartButtonEl.classList.remove('colab-df-spinner');\n",
              "      quickchartButtonEl.classList.add('colab-df-quickchart-complete');\n",
              "    }\n",
              "    (() => {\n",
              "      let quickchartButtonEl =\n",
              "        document.querySelector('#df-8e3d4e7a-cb69-4cb9-92f0-7485b540b37b button');\n",
              "      quickchartButtonEl.style.display =\n",
              "        google.colab.kernel.accessAllowed ? 'block' : 'none';\n",
              "    })();\n",
              "  </script>\n",
              "</div>\n",
              "\n",
              "    </div>\n",
              "  </div>\n"
            ]
          },
          "metadata": {},
          "execution_count": 6
        }
      ]
    },
    {
      "cell_type": "code",
      "source": [
        "df.dtypes"
      ],
      "metadata": {
        "colab": {
          "base_uri": "https://localhost:8080/"
        },
        "id": "iAIap-Ocs0JQ",
        "outputId": "b5a7b248-ff24-4f69-f65b-c68ff714a84f"
      },
      "execution_count": 7,
      "outputs": [
        {
          "output_type": "execute_result",
          "data": {
            "text/plain": [
              "id                                      int64\n",
              "NumDots                                 int64\n",
              "SubdomainLevel                          int64\n",
              "PathLevel                               int64\n",
              "UrlLength                               int64\n",
              "NumDash                                 int64\n",
              "NumDashInHostname                       int64\n",
              "AtSymbol                                int64\n",
              "TildeSymbol                             int64\n",
              "NumUnderscore                           int64\n",
              "NumPercent                              int64\n",
              "NumQueryComponents                      int64\n",
              "NumAmpersand                            int64\n",
              "NumHash                                 int64\n",
              "NumNumericChars                         int64\n",
              "NoHttps                                 int64\n",
              "RandomString                            int64\n",
              "IpAddress                               int64\n",
              "DomainInSubdomains                      int64\n",
              "DomainInPaths                           int64\n",
              "HttpsInHostname                         int64\n",
              "HostnameLength                          int64\n",
              "PathLength                              int64\n",
              "QueryLength                             int64\n",
              "DoubleSlashInPath                       int64\n",
              "NumSensitiveWords                       int64\n",
              "EmbeddedBrandName                       int64\n",
              "PctExtHyperlinks                      float64\n",
              "PctExtResourceUrls                    float64\n",
              "ExtFavicon                              int64\n",
              "InsecureForms                           int64\n",
              "RelativeFormAction                      int64\n",
              "ExtFormAction                           int64\n",
              "AbnormalFormAction                      int64\n",
              "PctNullSelfRedirectHyperlinks         float64\n",
              "FrequentDomainNameMismatch              int64\n",
              "FakeLinkInStatusBar                     int64\n",
              "RightClickDisabled                      int64\n",
              "PopUpWindow                             int64\n",
              "SubmitInfoToEmail                       int64\n",
              "IframeOrFrame                           int64\n",
              "MissingTitle                            int64\n",
              "ImagesOnlyInForm                        int64\n",
              "SubdomainLevelRT                        int64\n",
              "UrlLengthRT                             int64\n",
              "PctExtResourceUrlsRT                    int64\n",
              "AbnormalExtFormActionR                  int64\n",
              "ExtMetaScriptLinkRT                     int64\n",
              "PctExtNullSelfRedirectHyperlinksRT      int64\n",
              "CLASS_LABEL                             int64\n",
              "dtype: object"
            ]
          },
          "metadata": {},
          "execution_count": 7
        }
      ]
    },
    {
      "cell_type": "code",
      "source": [
        "df.describe()"
      ],
      "metadata": {
        "colab": {
          "base_uri": "https://localhost:8080/",
          "height": 349
        },
        "id": "VhuaC2lLs0Gk",
        "outputId": "809218a1-a9bc-4b86-ccc9-9be607bd85b5"
      },
      "execution_count": 8,
      "outputs": [
        {
          "output_type": "execute_result",
          "data": {
            "text/plain": [
              "                id       NumDots  SubdomainLevel     PathLevel     UrlLength  \\\n",
              "count  10000.00000  10000.000000    10000.000000  10000.000000  10000.000000   \n",
              "mean    5000.50000      2.445100        0.586800      3.300300     70.264100   \n",
              "std     2886.89568      1.346836        0.751214      1.863241     33.369877   \n",
              "min        1.00000      1.000000        0.000000      0.000000     12.000000   \n",
              "25%     2500.75000      2.000000        0.000000      2.000000     48.000000   \n",
              "50%     5000.50000      2.000000        1.000000      3.000000     62.000000   \n",
              "75%     7500.25000      3.000000        1.000000      4.000000     84.000000   \n",
              "max    10000.00000     21.000000       14.000000     18.000000    253.000000   \n",
              "\n",
              "            NumDash  NumDashInHostname      AtSymbol   TildeSymbol  \\\n",
              "count  10000.000000       10000.000000  10000.000000  10000.000000   \n",
              "mean       1.818000           0.138900      0.000300      0.013100   \n",
              "std        3.106258           0.545744      0.017319      0.113709   \n",
              "min        0.000000           0.000000      0.000000      0.000000   \n",
              "25%        0.000000           0.000000      0.000000      0.000000   \n",
              "50%        0.000000           0.000000      0.000000      0.000000   \n",
              "75%        2.000000           0.000000      0.000000      0.000000   \n",
              "max       55.000000           9.000000      1.000000      1.000000   \n",
              "\n",
              "       NumUnderscore  ...  IframeOrFrame  MissingTitle  ImagesOnlyInForm  \\\n",
              "count    10000.00000  ...   10000.000000   10000.00000      10000.000000   \n",
              "mean         0.32320  ...       0.339600       0.03220          0.030400   \n",
              "std          1.11466  ...       0.473597       0.17654          0.171694   \n",
              "min          0.00000  ...       0.000000       0.00000          0.000000   \n",
              "25%          0.00000  ...       0.000000       0.00000          0.000000   \n",
              "50%          0.00000  ...       0.000000       0.00000          0.000000   \n",
              "75%          0.00000  ...       1.000000       0.00000          0.000000   \n",
              "max         18.00000  ...       1.000000       1.00000          1.000000   \n",
              "\n",
              "       SubdomainLevelRT   UrlLengthRT  PctExtResourceUrlsRT  \\\n",
              "count      10000.000000  10000.000000          10000.000000   \n",
              "mean           0.956600      0.020200              0.353300   \n",
              "std            0.248037      0.820036              0.888908   \n",
              "min           -1.000000     -1.000000             -1.000000   \n",
              "25%            1.000000     -1.000000             -1.000000   \n",
              "50%            1.000000      0.000000              1.000000   \n",
              "75%            1.000000      1.000000              1.000000   \n",
              "max            1.000000      1.000000              1.000000   \n",
              "\n",
              "       AbnormalExtFormActionR  ExtMetaScriptLinkRT  \\\n",
              "count            10000.000000         10000.000000   \n",
              "mean                 0.793200             0.173400   \n",
              "std                  0.521019             0.755771   \n",
              "min                 -1.000000            -1.000000   \n",
              "25%                  1.000000             0.000000   \n",
              "50%                  1.000000             0.000000   \n",
              "75%                  1.000000             1.000000   \n",
              "max                  1.000000             1.000000   \n",
              "\n",
              "       PctExtNullSelfRedirectHyperlinksRT   CLASS_LABEL  \n",
              "count                        10000.000000  10000.000000  \n",
              "mean                             0.314100      0.500000  \n",
              "std                              0.897843      0.500025  \n",
              "min                             -1.000000      0.000000  \n",
              "25%                             -1.000000      0.000000  \n",
              "50%                              1.000000      0.500000  \n",
              "75%                              1.000000      1.000000  \n",
              "max                              1.000000      1.000000  \n",
              "\n",
              "[8 rows x 50 columns]"
            ],
            "text/html": [
              "\n",
              "  <div id=\"df-7ea77c2a-cfb4-4007-8f83-3679d9711bd7\" class=\"colab-df-container\">\n",
              "    <div>\n",
              "<style scoped>\n",
              "    .dataframe tbody tr th:only-of-type {\n",
              "        vertical-align: middle;\n",
              "    }\n",
              "\n",
              "    .dataframe tbody tr th {\n",
              "        vertical-align: top;\n",
              "    }\n",
              "\n",
              "    .dataframe thead th {\n",
              "        text-align: right;\n",
              "    }\n",
              "</style>\n",
              "<table border=\"1\" class=\"dataframe\">\n",
              "  <thead>\n",
              "    <tr style=\"text-align: right;\">\n",
              "      <th></th>\n",
              "      <th>id</th>\n",
              "      <th>NumDots</th>\n",
              "      <th>SubdomainLevel</th>\n",
              "      <th>PathLevel</th>\n",
              "      <th>UrlLength</th>\n",
              "      <th>NumDash</th>\n",
              "      <th>NumDashInHostname</th>\n",
              "      <th>AtSymbol</th>\n",
              "      <th>TildeSymbol</th>\n",
              "      <th>NumUnderscore</th>\n",
              "      <th>...</th>\n",
              "      <th>IframeOrFrame</th>\n",
              "      <th>MissingTitle</th>\n",
              "      <th>ImagesOnlyInForm</th>\n",
              "      <th>SubdomainLevelRT</th>\n",
              "      <th>UrlLengthRT</th>\n",
              "      <th>PctExtResourceUrlsRT</th>\n",
              "      <th>AbnormalExtFormActionR</th>\n",
              "      <th>ExtMetaScriptLinkRT</th>\n",
              "      <th>PctExtNullSelfRedirectHyperlinksRT</th>\n",
              "      <th>CLASS_LABEL</th>\n",
              "    </tr>\n",
              "  </thead>\n",
              "  <tbody>\n",
              "    <tr>\n",
              "      <th>count</th>\n",
              "      <td>10000.00000</td>\n",
              "      <td>10000.000000</td>\n",
              "      <td>10000.000000</td>\n",
              "      <td>10000.000000</td>\n",
              "      <td>10000.000000</td>\n",
              "      <td>10000.000000</td>\n",
              "      <td>10000.000000</td>\n",
              "      <td>10000.000000</td>\n",
              "      <td>10000.000000</td>\n",
              "      <td>10000.00000</td>\n",
              "      <td>...</td>\n",
              "      <td>10000.000000</td>\n",
              "      <td>10000.00000</td>\n",
              "      <td>10000.000000</td>\n",
              "      <td>10000.000000</td>\n",
              "      <td>10000.000000</td>\n",
              "      <td>10000.000000</td>\n",
              "      <td>10000.000000</td>\n",
              "      <td>10000.000000</td>\n",
              "      <td>10000.000000</td>\n",
              "      <td>10000.000000</td>\n",
              "    </tr>\n",
              "    <tr>\n",
              "      <th>mean</th>\n",
              "      <td>5000.50000</td>\n",
              "      <td>2.445100</td>\n",
              "      <td>0.586800</td>\n",
              "      <td>3.300300</td>\n",
              "      <td>70.264100</td>\n",
              "      <td>1.818000</td>\n",
              "      <td>0.138900</td>\n",
              "      <td>0.000300</td>\n",
              "      <td>0.013100</td>\n",
              "      <td>0.32320</td>\n",
              "      <td>...</td>\n",
              "      <td>0.339600</td>\n",
              "      <td>0.03220</td>\n",
              "      <td>0.030400</td>\n",
              "      <td>0.956600</td>\n",
              "      <td>0.020200</td>\n",
              "      <td>0.353300</td>\n",
              "      <td>0.793200</td>\n",
              "      <td>0.173400</td>\n",
              "      <td>0.314100</td>\n",
              "      <td>0.500000</td>\n",
              "    </tr>\n",
              "    <tr>\n",
              "      <th>std</th>\n",
              "      <td>2886.89568</td>\n",
              "      <td>1.346836</td>\n",
              "      <td>0.751214</td>\n",
              "      <td>1.863241</td>\n",
              "      <td>33.369877</td>\n",
              "      <td>3.106258</td>\n",
              "      <td>0.545744</td>\n",
              "      <td>0.017319</td>\n",
              "      <td>0.113709</td>\n",
              "      <td>1.11466</td>\n",
              "      <td>...</td>\n",
              "      <td>0.473597</td>\n",
              "      <td>0.17654</td>\n",
              "      <td>0.171694</td>\n",
              "      <td>0.248037</td>\n",
              "      <td>0.820036</td>\n",
              "      <td>0.888908</td>\n",
              "      <td>0.521019</td>\n",
              "      <td>0.755771</td>\n",
              "      <td>0.897843</td>\n",
              "      <td>0.500025</td>\n",
              "    </tr>\n",
              "    <tr>\n",
              "      <th>min</th>\n",
              "      <td>1.00000</td>\n",
              "      <td>1.000000</td>\n",
              "      <td>0.000000</td>\n",
              "      <td>0.000000</td>\n",
              "      <td>12.000000</td>\n",
              "      <td>0.000000</td>\n",
              "      <td>0.000000</td>\n",
              "      <td>0.000000</td>\n",
              "      <td>0.000000</td>\n",
              "      <td>0.00000</td>\n",
              "      <td>...</td>\n",
              "      <td>0.000000</td>\n",
              "      <td>0.00000</td>\n",
              "      <td>0.000000</td>\n",
              "      <td>-1.000000</td>\n",
              "      <td>-1.000000</td>\n",
              "      <td>-1.000000</td>\n",
              "      <td>-1.000000</td>\n",
              "      <td>-1.000000</td>\n",
              "      <td>-1.000000</td>\n",
              "      <td>0.000000</td>\n",
              "    </tr>\n",
              "    <tr>\n",
              "      <th>25%</th>\n",
              "      <td>2500.75000</td>\n",
              "      <td>2.000000</td>\n",
              "      <td>0.000000</td>\n",
              "      <td>2.000000</td>\n",
              "      <td>48.000000</td>\n",
              "      <td>0.000000</td>\n",
              "      <td>0.000000</td>\n",
              "      <td>0.000000</td>\n",
              "      <td>0.000000</td>\n",
              "      <td>0.00000</td>\n",
              "      <td>...</td>\n",
              "      <td>0.000000</td>\n",
              "      <td>0.00000</td>\n",
              "      <td>0.000000</td>\n",
              "      <td>1.000000</td>\n",
              "      <td>-1.000000</td>\n",
              "      <td>-1.000000</td>\n",
              "      <td>1.000000</td>\n",
              "      <td>0.000000</td>\n",
              "      <td>-1.000000</td>\n",
              "      <td>0.000000</td>\n",
              "    </tr>\n",
              "    <tr>\n",
              "      <th>50%</th>\n",
              "      <td>5000.50000</td>\n",
              "      <td>2.000000</td>\n",
              "      <td>1.000000</td>\n",
              "      <td>3.000000</td>\n",
              "      <td>62.000000</td>\n",
              "      <td>0.000000</td>\n",
              "      <td>0.000000</td>\n",
              "      <td>0.000000</td>\n",
              "      <td>0.000000</td>\n",
              "      <td>0.00000</td>\n",
              "      <td>...</td>\n",
              "      <td>0.000000</td>\n",
              "      <td>0.00000</td>\n",
              "      <td>0.000000</td>\n",
              "      <td>1.000000</td>\n",
              "      <td>0.000000</td>\n",
              "      <td>1.000000</td>\n",
              "      <td>1.000000</td>\n",
              "      <td>0.000000</td>\n",
              "      <td>1.000000</td>\n",
              "      <td>0.500000</td>\n",
              "    </tr>\n",
              "    <tr>\n",
              "      <th>75%</th>\n",
              "      <td>7500.25000</td>\n",
              "      <td>3.000000</td>\n",
              "      <td>1.000000</td>\n",
              "      <td>4.000000</td>\n",
              "      <td>84.000000</td>\n",
              "      <td>2.000000</td>\n",
              "      <td>0.000000</td>\n",
              "      <td>0.000000</td>\n",
              "      <td>0.000000</td>\n",
              "      <td>0.00000</td>\n",
              "      <td>...</td>\n",
              "      <td>1.000000</td>\n",
              "      <td>0.00000</td>\n",
              "      <td>0.000000</td>\n",
              "      <td>1.000000</td>\n",
              "      <td>1.000000</td>\n",
              "      <td>1.000000</td>\n",
              "      <td>1.000000</td>\n",
              "      <td>1.000000</td>\n",
              "      <td>1.000000</td>\n",
              "      <td>1.000000</td>\n",
              "    </tr>\n",
              "    <tr>\n",
              "      <th>max</th>\n",
              "      <td>10000.00000</td>\n",
              "      <td>21.000000</td>\n",
              "      <td>14.000000</td>\n",
              "      <td>18.000000</td>\n",
              "      <td>253.000000</td>\n",
              "      <td>55.000000</td>\n",
              "      <td>9.000000</td>\n",
              "      <td>1.000000</td>\n",
              "      <td>1.000000</td>\n",
              "      <td>18.00000</td>\n",
              "      <td>...</td>\n",
              "      <td>1.000000</td>\n",
              "      <td>1.00000</td>\n",
              "      <td>1.000000</td>\n",
              "      <td>1.000000</td>\n",
              "      <td>1.000000</td>\n",
              "      <td>1.000000</td>\n",
              "      <td>1.000000</td>\n",
              "      <td>1.000000</td>\n",
              "      <td>1.000000</td>\n",
              "      <td>1.000000</td>\n",
              "    </tr>\n",
              "  </tbody>\n",
              "</table>\n",
              "<p>8 rows × 50 columns</p>\n",
              "</div>\n",
              "    <div class=\"colab-df-buttons\">\n",
              "\n",
              "  <div class=\"colab-df-container\">\n",
              "    <button class=\"colab-df-convert\" onclick=\"convertToInteractive('df-7ea77c2a-cfb4-4007-8f83-3679d9711bd7')\"\n",
              "            title=\"Convert this dataframe to an interactive table.\"\n",
              "            style=\"display:none;\">\n",
              "\n",
              "  <svg xmlns=\"http://www.w3.org/2000/svg\" height=\"24px\" viewBox=\"0 -960 960 960\">\n",
              "    <path d=\"M120-120v-720h720v720H120Zm60-500h600v-160H180v160Zm220 220h160v-160H400v160Zm0 220h160v-160H400v160ZM180-400h160v-160H180v160Zm440 0h160v-160H620v160ZM180-180h160v-160H180v160Zm440 0h160v-160H620v160Z\"/>\n",
              "  </svg>\n",
              "    </button>\n",
              "\n",
              "  <style>\n",
              "    .colab-df-container {\n",
              "      display:flex;\n",
              "      gap: 12px;\n",
              "    }\n",
              "\n",
              "    .colab-df-convert {\n",
              "      background-color: #E8F0FE;\n",
              "      border: none;\n",
              "      border-radius: 50%;\n",
              "      cursor: pointer;\n",
              "      display: none;\n",
              "      fill: #1967D2;\n",
              "      height: 32px;\n",
              "      padding: 0 0 0 0;\n",
              "      width: 32px;\n",
              "    }\n",
              "\n",
              "    .colab-df-convert:hover {\n",
              "      background-color: #E2EBFA;\n",
              "      box-shadow: 0px 1px 2px rgba(60, 64, 67, 0.3), 0px 1px 3px 1px rgba(60, 64, 67, 0.15);\n",
              "      fill: #174EA6;\n",
              "    }\n",
              "\n",
              "    .colab-df-buttons div {\n",
              "      margin-bottom: 4px;\n",
              "    }\n",
              "\n",
              "    [theme=dark] .colab-df-convert {\n",
              "      background-color: #3B4455;\n",
              "      fill: #D2E3FC;\n",
              "    }\n",
              "\n",
              "    [theme=dark] .colab-df-convert:hover {\n",
              "      background-color: #434B5C;\n",
              "      box-shadow: 0px 1px 3px 1px rgba(0, 0, 0, 0.15);\n",
              "      filter: drop-shadow(0px 1px 2px rgba(0, 0, 0, 0.3));\n",
              "      fill: #FFFFFF;\n",
              "    }\n",
              "  </style>\n",
              "\n",
              "    <script>\n",
              "      const buttonEl =\n",
              "        document.querySelector('#df-7ea77c2a-cfb4-4007-8f83-3679d9711bd7 button.colab-df-convert');\n",
              "      buttonEl.style.display =\n",
              "        google.colab.kernel.accessAllowed ? 'block' : 'none';\n",
              "\n",
              "      async function convertToInteractive(key) {\n",
              "        const element = document.querySelector('#df-7ea77c2a-cfb4-4007-8f83-3679d9711bd7');\n",
              "        const dataTable =\n",
              "          await google.colab.kernel.invokeFunction('convertToInteractive',\n",
              "                                                    [key], {});\n",
              "        if (!dataTable) return;\n",
              "\n",
              "        const docLinkHtml = 'Like what you see? Visit the ' +\n",
              "          '<a target=\"_blank\" href=https://colab.research.google.com/notebooks/data_table.ipynb>data table notebook</a>'\n",
              "          + ' to learn more about interactive tables.';\n",
              "        element.innerHTML = '';\n",
              "        dataTable['output_type'] = 'display_data';\n",
              "        await google.colab.output.renderOutput(dataTable, element);\n",
              "        const docLink = document.createElement('div');\n",
              "        docLink.innerHTML = docLinkHtml;\n",
              "        element.appendChild(docLink);\n",
              "      }\n",
              "    </script>\n",
              "  </div>\n",
              "\n",
              "\n",
              "<div id=\"df-1207064e-eda5-49aa-92ac-e7100517adbf\">\n",
              "  <button class=\"colab-df-quickchart\" onclick=\"quickchart('df-1207064e-eda5-49aa-92ac-e7100517adbf')\"\n",
              "            title=\"Suggest charts\"\n",
              "            style=\"display:none;\">\n",
              "\n",
              "<svg xmlns=\"http://www.w3.org/2000/svg\" height=\"24px\"viewBox=\"0 0 24 24\"\n",
              "     width=\"24px\">\n",
              "    <g>\n",
              "        <path d=\"M19 3H5c-1.1 0-2 .9-2 2v14c0 1.1.9 2 2 2h14c1.1 0 2-.9 2-2V5c0-1.1-.9-2-2-2zM9 17H7v-7h2v7zm4 0h-2V7h2v10zm4 0h-2v-4h2v4z\"/>\n",
              "    </g>\n",
              "</svg>\n",
              "  </button>\n",
              "\n",
              "<style>\n",
              "  .colab-df-quickchart {\n",
              "      --bg-color: #E8F0FE;\n",
              "      --fill-color: #1967D2;\n",
              "      --hover-bg-color: #E2EBFA;\n",
              "      --hover-fill-color: #174EA6;\n",
              "      --disabled-fill-color: #AAA;\n",
              "      --disabled-bg-color: #DDD;\n",
              "  }\n",
              "\n",
              "  [theme=dark] .colab-df-quickchart {\n",
              "      --bg-color: #3B4455;\n",
              "      --fill-color: #D2E3FC;\n",
              "      --hover-bg-color: #434B5C;\n",
              "      --hover-fill-color: #FFFFFF;\n",
              "      --disabled-bg-color: #3B4455;\n",
              "      --disabled-fill-color: #666;\n",
              "  }\n",
              "\n",
              "  .colab-df-quickchart {\n",
              "    background-color: var(--bg-color);\n",
              "    border: none;\n",
              "    border-radius: 50%;\n",
              "    cursor: pointer;\n",
              "    display: none;\n",
              "    fill: var(--fill-color);\n",
              "    height: 32px;\n",
              "    padding: 0;\n",
              "    width: 32px;\n",
              "  }\n",
              "\n",
              "  .colab-df-quickchart:hover {\n",
              "    background-color: var(--hover-bg-color);\n",
              "    box-shadow: 0 1px 2px rgba(60, 64, 67, 0.3), 0 1px 3px 1px rgba(60, 64, 67, 0.15);\n",
              "    fill: var(--button-hover-fill-color);\n",
              "  }\n",
              "\n",
              "  .colab-df-quickchart-complete:disabled,\n",
              "  .colab-df-quickchart-complete:disabled:hover {\n",
              "    background-color: var(--disabled-bg-color);\n",
              "    fill: var(--disabled-fill-color);\n",
              "    box-shadow: none;\n",
              "  }\n",
              "\n",
              "  .colab-df-spinner {\n",
              "    border: 2px solid var(--fill-color);\n",
              "    border-color: transparent;\n",
              "    border-bottom-color: var(--fill-color);\n",
              "    animation:\n",
              "      spin 1s steps(1) infinite;\n",
              "  }\n",
              "\n",
              "  @keyframes spin {\n",
              "    0% {\n",
              "      border-color: transparent;\n",
              "      border-bottom-color: var(--fill-color);\n",
              "      border-left-color: var(--fill-color);\n",
              "    }\n",
              "    20% {\n",
              "      border-color: transparent;\n",
              "      border-left-color: var(--fill-color);\n",
              "      border-top-color: var(--fill-color);\n",
              "    }\n",
              "    30% {\n",
              "      border-color: transparent;\n",
              "      border-left-color: var(--fill-color);\n",
              "      border-top-color: var(--fill-color);\n",
              "      border-right-color: var(--fill-color);\n",
              "    }\n",
              "    40% {\n",
              "      border-color: transparent;\n",
              "      border-right-color: var(--fill-color);\n",
              "      border-top-color: var(--fill-color);\n",
              "    }\n",
              "    60% {\n",
              "      border-color: transparent;\n",
              "      border-right-color: var(--fill-color);\n",
              "    }\n",
              "    80% {\n",
              "      border-color: transparent;\n",
              "      border-right-color: var(--fill-color);\n",
              "      border-bottom-color: var(--fill-color);\n",
              "    }\n",
              "    90% {\n",
              "      border-color: transparent;\n",
              "      border-bottom-color: var(--fill-color);\n",
              "    }\n",
              "  }\n",
              "</style>\n",
              "\n",
              "  <script>\n",
              "    async function quickchart(key) {\n",
              "      const quickchartButtonEl =\n",
              "        document.querySelector('#' + key + ' button');\n",
              "      quickchartButtonEl.disabled = true;  // To prevent multiple clicks.\n",
              "      quickchartButtonEl.classList.add('colab-df-spinner');\n",
              "      try {\n",
              "        const charts = await google.colab.kernel.invokeFunction(\n",
              "            'suggestCharts', [key], {});\n",
              "      } catch (error) {\n",
              "        console.error('Error during call to suggestCharts:', error);\n",
              "      }\n",
              "      quickchartButtonEl.classList.remove('colab-df-spinner');\n",
              "      quickchartButtonEl.classList.add('colab-df-quickchart-complete');\n",
              "    }\n",
              "    (() => {\n",
              "      let quickchartButtonEl =\n",
              "        document.querySelector('#df-1207064e-eda5-49aa-92ac-e7100517adbf button');\n",
              "      quickchartButtonEl.style.display =\n",
              "        google.colab.kernel.accessAllowed ? 'block' : 'none';\n",
              "    })();\n",
              "  </script>\n",
              "</div>\n",
              "\n",
              "    </div>\n",
              "  </div>\n"
            ]
          },
          "metadata": {},
          "execution_count": 8
        }
      ]
    },
    {
      "cell_type": "code",
      "source": [
        "df.shape"
      ],
      "metadata": {
        "colab": {
          "base_uri": "https://localhost:8080/"
        },
        "id": "5Xk3mzN1s0D1",
        "outputId": "e188838c-e588-436e-867e-86fc7c49137a"
      },
      "execution_count": 9,
      "outputs": [
        {
          "output_type": "execute_result",
          "data": {
            "text/plain": [
              "(10000, 50)"
            ]
          },
          "metadata": {},
          "execution_count": 9
        }
      ]
    },
    {
      "cell_type": "code",
      "source": [
        "df.info()"
      ],
      "metadata": {
        "colab": {
          "base_uri": "https://localhost:8080/"
        },
        "id": "5wuGtlh8s0Bj",
        "outputId": "8eb98306-b033-4bb1-aa95-6c8f809d3156"
      },
      "execution_count": 10,
      "outputs": [
        {
          "output_type": "stream",
          "name": "stdout",
          "text": [
            "<class 'pandas.core.frame.DataFrame'>\n",
            "RangeIndex: 10000 entries, 0 to 9999\n",
            "Data columns (total 50 columns):\n",
            " #   Column                              Non-Null Count  Dtype  \n",
            "---  ------                              --------------  -----  \n",
            " 0   id                                  10000 non-null  int64  \n",
            " 1   NumDots                             10000 non-null  int64  \n",
            " 2   SubdomainLevel                      10000 non-null  int64  \n",
            " 3   PathLevel                           10000 non-null  int64  \n",
            " 4   UrlLength                           10000 non-null  int64  \n",
            " 5   NumDash                             10000 non-null  int64  \n",
            " 6   NumDashInHostname                   10000 non-null  int64  \n",
            " 7   AtSymbol                            10000 non-null  int64  \n",
            " 8   TildeSymbol                         10000 non-null  int64  \n",
            " 9   NumUnderscore                       10000 non-null  int64  \n",
            " 10  NumPercent                          10000 non-null  int64  \n",
            " 11  NumQueryComponents                  10000 non-null  int64  \n",
            " 12  NumAmpersand                        10000 non-null  int64  \n",
            " 13  NumHash                             10000 non-null  int64  \n",
            " 14  NumNumericChars                     10000 non-null  int64  \n",
            " 15  NoHttps                             10000 non-null  int64  \n",
            " 16  RandomString                        10000 non-null  int64  \n",
            " 17  IpAddress                           10000 non-null  int64  \n",
            " 18  DomainInSubdomains                  10000 non-null  int64  \n",
            " 19  DomainInPaths                       10000 non-null  int64  \n",
            " 20  HttpsInHostname                     10000 non-null  int64  \n",
            " 21  HostnameLength                      10000 non-null  int64  \n",
            " 22  PathLength                          10000 non-null  int64  \n",
            " 23  QueryLength                         10000 non-null  int64  \n",
            " 24  DoubleSlashInPath                   10000 non-null  int64  \n",
            " 25  NumSensitiveWords                   10000 non-null  int64  \n",
            " 26  EmbeddedBrandName                   10000 non-null  int64  \n",
            " 27  PctExtHyperlinks                    10000 non-null  float64\n",
            " 28  PctExtResourceUrls                  10000 non-null  float64\n",
            " 29  ExtFavicon                          10000 non-null  int64  \n",
            " 30  InsecureForms                       10000 non-null  int64  \n",
            " 31  RelativeFormAction                  10000 non-null  int64  \n",
            " 32  ExtFormAction                       10000 non-null  int64  \n",
            " 33  AbnormalFormAction                  10000 non-null  int64  \n",
            " 34  PctNullSelfRedirectHyperlinks       10000 non-null  float64\n",
            " 35  FrequentDomainNameMismatch          10000 non-null  int64  \n",
            " 36  FakeLinkInStatusBar                 10000 non-null  int64  \n",
            " 37  RightClickDisabled                  10000 non-null  int64  \n",
            " 38  PopUpWindow                         10000 non-null  int64  \n",
            " 39  SubmitInfoToEmail                   10000 non-null  int64  \n",
            " 40  IframeOrFrame                       10000 non-null  int64  \n",
            " 41  MissingTitle                        10000 non-null  int64  \n",
            " 42  ImagesOnlyInForm                    10000 non-null  int64  \n",
            " 43  SubdomainLevelRT                    10000 non-null  int64  \n",
            " 44  UrlLengthRT                         10000 non-null  int64  \n",
            " 45  PctExtResourceUrlsRT                10000 non-null  int64  \n",
            " 46  AbnormalExtFormActionR              10000 non-null  int64  \n",
            " 47  ExtMetaScriptLinkRT                 10000 non-null  int64  \n",
            " 48  PctExtNullSelfRedirectHyperlinksRT  10000 non-null  int64  \n",
            " 49  CLASS_LABEL                         10000 non-null  int64  \n",
            "dtypes: float64(3), int64(47)\n",
            "memory usage: 3.8 MB\n"
          ]
        }
      ]
    },
    {
      "cell_type": "code",
      "source": [
        "class_counts = df['CLASS_LABEL'].value_counts()\n",
        "print(class_counts)"
      ],
      "metadata": {
        "colab": {
          "base_uri": "https://localhost:8080/"
        },
        "id": "poiGR7phsz-1",
        "outputId": "5b705567-8139-447b-c7ad-150b79f617a3"
      },
      "execution_count": 11,
      "outputs": [
        {
          "output_type": "stream",
          "name": "stdout",
          "text": [
            "1    5000\n",
            "0    5000\n",
            "Name: CLASS_LABEL, dtype: int64\n"
          ]
        }
      ]
    },
    {
      "cell_type": "code",
      "source": [
        "plt.figure(figsize=(6,4))\n",
        "class_counts.plot(kind='bar', color='blue')\n",
        "plt.title('Class Label Counts')\n",
        "plt.xlabel('Class Label')\n",
        "plt.ylabel('Count')\n",
        "plt.show()"
      ],
      "metadata": {
        "colab": {
          "base_uri": "https://localhost:8080/",
          "height": 405
        },
        "id": "8vQ_s5H_sz8B",
        "outputId": "7a25e21f-06f3-4abd-e71b-1cb5fef0c0ac"
      },
      "execution_count": 14,
      "outputs": [
        {
          "output_type": "display_data",
          "data": {
            "text/plain": [
              "<Figure size 600x400 with 1 Axes>"
            ],
            "image/png": "[encoded data removed]"
          },
          "metadata": {}
        }
      ]
    },
    {
      "cell_type": "code",
      "source": [
        "correlations = []\n",
        "for feature in df.columns[:-1]:\n",
        "    correlation = df['CLASS_LABEL'].corr(df[feature])\n",
        "    correlations.append((feature, correlation))\n",
        "\n",
        "correlations.sort(key=lambda x: abs(x[1]), reverse=True)\n",
        "\n",
        "for feature, correlation in correlations:\n",
        "    print(f\"Correlation between {feature} and CLASS_LABEL: {correlation:.2f}\")"
      ],
      "metadata": {
        "colab": {
          "base_uri": "https://localhost:8080/"
        },
        "id": "5E2bxAprsz5H",
        "outputId": "e24615d3-84b5-4010-812a-ac509fb0f488"
      },
      "execution_count": 15,
      "outputs": [
        {
          "output_type": "stream",
          "name": "stdout",
          "text": [
            "Correlation between id and CLASS_LABEL: -0.87\n",
            "Correlation between HttpsInHostname and CLASS_LABEL: nan\n",
            "Correlation between PctExtNullSelfRedirectHyperlinksRT and CLASS_LABEL: -0.54\n",
            "Correlation between FrequentDomainNameMismatch and CLASS_LABEL: 0.46\n",
            "Correlation between NumDash and CLASS_LABEL: -0.37\n",
            "Correlation between SubmitInfoToEmail and CLASS_LABEL: -0.36\n",
            "Correlation between PctNullSelfRedirectHyperlinks and CLASS_LABEL: 0.34\n",
            "Correlation between InsecureForms and CLASS_LABEL: 0.32\n",
            "Correlation between NumDots and CLASS_LABEL: 0.29\n",
            "Correlation between PctExtHyperlinks and CLASS_LABEL: 0.26\n",
            "Correlation between NumSensitiveWords and CLASS_LABEL: 0.26\n",
            "Correlation between IframeOrFrame and CLASS_LABEL: -0.24\n",
            "Correlation between PathLevel and CLASS_LABEL: 0.23\n",
            "Correlation between AbnormalExtFormActionR and CLASS_LABEL: 0.19\n",
            "Correlation between UrlLengthRT and CLASS_LABEL: 0.17\n",
            "Correlation between HostnameLength and CLASS_LABEL: 0.17\n",
            "Correlation between NumDashInHostname and CLASS_LABEL: 0.15\n",
            "Correlation between NumQueryComponents and CLASS_LABEL: -0.15\n",
            "Correlation between AbnormalFormAction and CLASS_LABEL: -0.15\n",
            "Correlation between EmbeddedBrandName and CLASS_LABEL: 0.14\n",
            "Correlation between IpAddress and CLASS_LABEL: 0.13\n",
            "Correlation between DomainInPaths and CLASS_LABEL: -0.12\n",
            "Correlation between MissingTitle and CLASS_LABEL: 0.12\n",
            "Correlation between ExtMetaScriptLinkRT and CLASS_LABEL: 0.11\n",
            "Correlation between ExtFormAction and CLASS_LABEL: -0.11\n",
            "Correlation between DomainInSubdomains and CLASS_LABEL: 0.10\n",
            "Correlation between NumUnderscore and CLASS_LABEL: -0.10\n",
            "Correlation between TildeSymbol and CLASS_LABEL: 0.10\n",
            "Correlation between RandomString and CLASS_LABEL: -0.09\n",
            "Correlation between RelativeFormAction and CLASS_LABEL: -0.08\n",
            "Correlation between NumAmpersand and CLASS_LABEL: -0.08\n",
            "Correlation between QueryLength and CLASS_LABEL: -0.08\n",
            "Correlation between PathLength and CLASS_LABEL: -0.08\n",
            "Correlation between SubdomainLevelRT and CLASS_LABEL: -0.08\n",
            "Correlation between RightClickDisabled and CLASS_LABEL: 0.07\n",
            "Correlation between UrlLength and CLASS_LABEL: -0.07\n",
            "Correlation between NoHttps and CLASS_LABEL: -0.07\n",
            "Correlation between ExtFavicon and CLASS_LABEL: 0.07\n",
            "Correlation between NumPercent and CLASS_LABEL: -0.07\n",
            "Correlation between PopUpWindow and CLASS_LABEL: -0.07\n",
            "Correlation between PctExtResourceUrlsRT and CLASS_LABEL: 0.05\n",
            "Correlation between NumHash and CLASS_LABEL: 0.05\n",
            "Correlation between SubdomainLevel and CLASS_LABEL: 0.04\n",
            "Correlation between DoubleSlashInPath and CLASS_LABEL: 0.02\n",
            "Correlation between PctExtResourceUrls and CLASS_LABEL: -0.02\n",
            "Correlation between NumNumericChars and CLASS_LABEL: 0.02\n",
            "Correlation between AtSymbol and CLASS_LABEL: -0.02\n",
            "Correlation between FakeLinkInStatusBar and CLASS_LABEL: -0.01\n",
            "Correlation between ImagesOnlyInForm and CLASS_LABEL: -0.00\n"
          ]
        }
      ]
    },
    {
      "cell_type": "code",
      "source": [
        "X = df.drop(columns=['CLASS_LABEL', 'id'])\n",
        "y = df['CLASS_LABEL']\n",
        "\n",
        "scaler = StandardScaler()\n",
        "X = scaler.fit_transform(X)\n",
        "\n",
        "X_train, X_test, y_train, y_test = train_test_split(X, y, test_size=0.2, random_state=42)"
      ],
      "metadata": {
        "id": "spxD7iMdsz2J"
      },
      "execution_count": 16,
      "outputs": []
    },
    {
      "cell_type": "code",
      "source": [
        "model = keras.Sequential()\n",
        "\n",
        "# Add input layer\n",
        "model.add(keras.layers.Input(shape=(X_train.shape[1],)))\n",
        "\n",
        "# Add hidden layers\n",
        "model.add(keras.layers.Dense(64, activation='relu'))\n",
        "model.add(keras.layers.Dense(32, activation='relu'))\n",
        "\n",
        "# Add output layer\n",
        "model.add(keras.layers.Dense(1, activation='sigmoid'))\n",
        "\n",
        "# Compile the model\n",
        "model.compile(optimizer='adam', loss='binary_crossentropy', metrics=['accuracy'])"
      ],
      "metadata": {
        "id": "gGE3cynoszzH"
      },
      "execution_count": 17,
      "outputs": []
    },
    {
      "cell_type": "code",
      "source": [
        "model.fit(X_train, y_train, epochs=10, batch_size=32, validation_data=(X_test, y_test))"
      ],
      "metadata": {
        "colab": {
          "base_uri": "https://localhost:8080/"
        },
        "id": "_9K1mer4szwO",
        "outputId": "27ce34db-5ba5-4f04-8b98-f79c38f11ca1"
      },
      "execution_count": 18,
      "outputs": [
        {
          "output_type": "stream",
          "name": "stdout",
          "text": [
            "Epoch 1/10\n",
            "250/250 [==============================] - 2s 3ms/step - loss: 0.2723 - accuracy: 0.8920 - val_loss: 0.1480 - val_accuracy: 0.9425\n",
            "Epoch 2/10\n",
            "250/250 [==============================] - 1s 3ms/step - loss: 0.1263 - accuracy: 0.9516 - val_loss: 0.1286 - val_accuracy: 0.9495\n",
            "Epoch 3/10\n",
            "250/250 [==============================] - 1s 3ms/step - loss: 0.1022 - accuracy: 0.9599 - val_loss: 0.1272 - val_accuracy: 0.9525\n",
            "Epoch 4/10\n",
            "250/250 [==============================] - 1s 3ms/step - loss: 0.0880 - accuracy: 0.9691 - val_loss: 0.1042 - val_accuracy: 0.9610\n",
            "Epoch 5/10\n",
            "250/250 [==============================] - 1s 3ms/step - loss: 0.0751 - accuracy: 0.9722 - val_loss: 0.1014 - val_accuracy: 0.9620\n",
            "Epoch 6/10\n",
            "250/250 [==============================] - 1s 2ms/step - loss: 0.0661 - accuracy: 0.9749 - val_loss: 0.0930 - val_accuracy: 0.9640\n",
            "Epoch 7/10\n",
            "250/250 [==============================] - 1s 2ms/step - loss: 0.0578 - accuracy: 0.9791 - val_loss: 0.0928 - val_accuracy: 0.9660\n",
            "Epoch 8/10\n",
            "250/250 [==============================] - 1s 2ms/step - loss: 0.0521 - accuracy: 0.9814 - val_loss: 0.0906 - val_accuracy: 0.9675\n",
            "Epoch 9/10\n",
            "250/250 [==============================] - 1s 2ms/step - loss: 0.0487 - accuracy: 0.9829 - val_loss: 0.0930 - val_accuracy: 0.9705\n",
            "Epoch 10/10\n",
            "250/250 [==============================] - 1s 2ms/step - loss: 0.0412 - accuracy: 0.9861 - val_loss: 0.0829 - val_accuracy: 0.9710\n"
          ]
        },
        {
          "output_type": "execute_result",
          "data": {
            "text/plain": [
              "<keras.src.callbacks.History at 0x78307859e110>"
            ]
          },
          "metadata": {},
          "execution_count": 18
        }
      ]
    },
    {
      "cell_type": "code",
      "source": [
        "model.fit(X_train, y_train, epochs=10, batch_size=32, validation_data=(X_test, y_test))"
      ],
      "metadata": {
        "colab": {
          "base_uri": "https://localhost:8080/"
        },
        "id": "nxZH0wI2sznD",
        "outputId": "5a51d3cd-9c3a-4a1c-cf35-4f6dea244200"
      },
      "execution_count": 19,
      "outputs": [
        {
          "output_type": "stream",
          "name": "stdout",
          "text": [
            "Epoch 1/10\n",
            "250/250 [==============================] - 1s 4ms/step - loss: 0.0389 - accuracy: 0.9870 - val_loss: 0.0838 - val_accuracy: 0.9720\n",
            "Epoch 2/10\n",
            "250/250 [==============================] - 1s 4ms/step - loss: 0.0343 - accuracy: 0.9885 - val_loss: 0.0859 - val_accuracy: 0.9715\n",
            "Epoch 3/10\n",
            "250/250 [==============================] - 1s 3ms/step - loss: 0.0321 - accuracy: 0.9895 - val_loss: 0.0765 - val_accuracy: 0.9730\n",
            "Epoch 4/10\n",
            "250/250 [==============================] - 1s 2ms/step - loss: 0.0288 - accuracy: 0.9906 - val_loss: 0.0910 - val_accuracy: 0.9705\n",
            "Epoch 5/10\n",
            "250/250 [==============================] - 1s 3ms/step - loss: 0.0261 - accuracy: 0.9912 - val_loss: 0.0823 - val_accuracy: 0.9740\n",
            "Epoch 6/10\n",
            "250/250 [==============================] - 1s 3ms/step - loss: 0.0236 - accuracy: 0.9925 - val_loss: 0.0930 - val_accuracy: 0.9705\n",
            "Epoch 7/10\n",
            "250/250 [==============================] - 1s 3ms/step - loss: 0.0230 - accuracy: 0.9925 - val_loss: 0.0901 - val_accuracy: 0.9740\n",
            "Epoch 8/10\n",
            "250/250 [==============================] - 1s 3ms/step - loss: 0.0201 - accuracy: 0.9937 - val_loss: 0.0843 - val_accuracy: 0.9735\n",
            "Epoch 9/10\n",
            "250/250 [==============================] - 1s 2ms/step - loss: 0.0187 - accuracy: 0.9929 - val_loss: 0.0925 - val_accuracy: 0.9780\n",
            "Epoch 10/10\n",
            "250/250 [==============================] - 1s 3ms/step - loss: 0.0182 - accuracy: 0.9946 - val_loss: 0.1045 - val_accuracy: 0.9770\n"
          ]
        },
        {
          "output_type": "execute_result",
          "data": {
            "text/plain": [
              "<keras.src.callbacks.History at 0x78307036f460>"
            ]
          },
          "metadata": {},
          "execution_count": 19
        }
      ]
    },
    {
      "cell_type": "code",
      "source": [
        "test_loss, test_accuracy = model.evaluate(X_test, y_test)\n",
        "print(f'Test Accuracy: {test_accuracy * 100:.2f}%')"
      ],
      "metadata": {
        "colab": {
          "base_uri": "https://localhost:8080/"
        },
        "id": "Vme5ZfchszXL",
        "outputId": "499ce4e1-3440-4818-c5c0-3217da22c47f"
      },
      "execution_count": 20,
      "outputs": [
        {
          "output_type": "stream",
          "name": "stdout",
          "text": [
            "63/63 [==============================] - 0s 5ms/step - loss: 0.1045 - accuracy: 0.9770\n",
            "Test Accuracy: 97.70%\n"
          ]
        }
      ]
    },
    {
      "cell_type": "code",
      "source": [
        "y_pred = model.predict(X_test)"
      ],
      "metadata": {
        "colab": {
          "base_uri": "https://localhost:8080/"
        },
        "id": "ItQj7aA-yBUH",
        "outputId": "c8353244-b4b7-4a7f-c4f1-0f3c057ffa59"
      },
      "execution_count": 21,
      "outputs": [
        {
          "output_type": "stream",
          "name": "stdout",
          "text": [
            "63/63 [==============================] - 0s 1ms/step\n"
          ]
        }
      ]
    },
    {
      "cell_type": "code",
      "source": [
        "y_test = y_test.astype(int)\n",
        "y_pred = y_pred.astype(int)"
      ],
      "metadata": {
        "id": "i1aWkubOyB6s"
      },
      "execution_count": 22,
      "outputs": []
    },
    {
      "cell_type": "code",
      "source": [
        "from sklearn.metrics import accuracy_score, classification_report, confusion_matrix\n",
        "class_report = classification_report(y_test, y_pred, target_names=['Non-Phishing', 'Phishing'])\n",
        "print(\"Classification Report:\")\n",
        "print(class_report)"
      ],
      "metadata": {
        "colab": {
          "base_uri": "https://localhost:8080/"
        },
        "id": "4Mkj59GXyCOp",
        "outputId": "4c6e607e-ee01-43f8-b6bc-5dfb29f9707a"
      },
      "execution_count": 23,
      "outputs": [
        {
          "output_type": "stream",
          "name": "stdout",
          "text": [
            "Classification Report:\n",
            "              precision    recall  f1-score   support\n",
            "\n",
            "Non-Phishing       0.60      1.00      0.75       988\n",
            "    Phishing       1.00      0.34      0.51      1012\n",
            "\n",
            "    accuracy                           0.67      2000\n",
            "   macro avg       0.80      0.67      0.63      2000\n",
            "weighted avg       0.80      0.67      0.62      2000\n",
            "\n"
          ]
        }
      ]
    },
    {
      "cell_type": "code",
      "source": [
        "from sklearn.ensemble import RandomForestClassifier"
      ],
      "metadata": {
        "id": "U4FGp47lyCfp"
      },
      "execution_count": 24,
      "outputs": []
    },
    {
      "cell_type": "code",
      "source": [
        "model = RandomForestClassifier(n_estimators=100, random_state=42)\n",
        "\n",
        "# Model training\n",
        "model.fit(X_train, y_train)\n",
        "\n",
        "# Model evaluation\n",
        "y_pred = model.predict(X_test)\n",
        "accuracy = accuracy_score(y_test, y_pred)\n",
        "print(\"Accuracy:\", accuracy)\n",
        "print(classification_report(y_test, y_pred))"
      ],
      "metadata": {
        "colab": {
          "base_uri": "https://localhost:8080/"
        },
        "id": "VpOpPU5YyCwf",
        "outputId": "88f336c0-52b2-4af9-8ba8-aaf9d7b51bcd"
      },
      "execution_count": 25,
      "outputs": [
        {
          "output_type": "stream",
          "name": "stdout",
          "text": [
            "Accuracy: 0.9825\n",
            "              precision    recall  f1-score   support\n",
            "\n",
            "           0       0.98      0.98      0.98       988\n",
            "           1       0.98      0.98      0.98      1012\n",
            "\n",
            "    accuracy                           0.98      2000\n",
            "   macro avg       0.98      0.98      0.98      2000\n",
            "weighted avg       0.98      0.98      0.98      2000\n",
            "\n"
          ]
        }
      ]
    },
    {
      "cell_type": "code",
      "source": [
        "conf_matrix = confusion_matrix(y_test, y_pred)\n",
        "sns.heatmap(conf_matrix, annot=True, cmap='Blues')"
      ],
      "metadata": {
        "colab": {
          "base_uri": "https://localhost:8080/",
          "height": 447
        },
        "id": "Q7v54Hu3yDAI",
        "outputId": "c0729b86-f019-4632-9894-c2cd1a5d5dc9"
      },
      "execution_count": 27,
      "outputs": [
        {
          "output_type": "execute_result",
          "data": {
            "text/plain": [
              "<Axes: >"
            ]
          },
          "metadata": {},
          "execution_count": 27
        },
        {
          "output_type": "display_data",
          "data": {
            "text/plain": [
              "<Figure size 640x480 with 2 Axes>"
            ],
            "image/png": "[encoded data removed]"
          },
          "metadata": {}
        }
      ]
    },
    {
      "cell_type": "code",
      "source": [
        "from sklearn.tree import DecisionTreeClassifier"
      ],
      "metadata": {
        "id": "-xBTaipJyDRB"
      },
      "execution_count": 28,
      "outputs": []
    },
    {
      "cell_type": "code",
      "source": [
        "treemodel = DecisionTreeClassifier(max_depth=3)"
      ],
      "metadata": {
        "id": "6d93rZ_gzcJ3"
      },
      "execution_count": 29,
      "outputs": []
    },
    {
      "cell_type": "code",
      "source": [
        "treemodel.fit(X_train, y_train)"
      ],
      "metadata": {
        "colab": {
          "base_uri": "https://localhost:8080/",
          "height": 74
        },
        "id": "a26i1UZIzb8I",
        "outputId": "37188851-e867-4e98-c99d-dcf68fde5fb0"
      },
      "execution_count": 30,
      "outputs": [
        {
          "output_type": "execute_result",
          "data": {
            "text/plain": [
              "DecisionTreeClassifier(max_depth=3)"
            ],
            "text/html": [
              "<style>#sk-container-id-1 {color: black;background-color: white;}#sk-container-id-1 pre{padding: 0;}#sk-container-id-1 div.sk-toggleable {background-color: white;}#sk-container-id-1 label.sk-toggleable__label {cursor: pointer;display: block;width: 100%;margin-bottom: 0;padding: 0.3em;box-sizing: border-box;text-align: center;}#sk-container-id-1 label.sk-toggleable__label-arrow:before {content: \"▸\";float: left;margin-right: 0.25em;color: #696969;}#sk-container-id-1 label.sk-toggleable__label-arrow:hover:before {color: black;}#sk-container-id-1 div.sk-estimator:hover label.sk-toggleable__label-arrow:before {color: black;}#sk-container-id-1 div.sk-toggleable__content {max-height: 0;max-width: 0;overflow: hidden;text-align: left;background-color: #f0f8ff;}#sk-container-id-1 div.sk-toggleable__content pre {margin: 0.2em;color: black;border-radius: 0.25em;background-color: #f0f8ff;}#sk-container-id-1 input.sk-toggleable__control:checked~div.sk-toggleable__content {max-height: 200px;max-width: 100%;overflow: auto;}#sk-container-id-1 input.sk-toggleable__control:checked~label.sk-toggleable__label-arrow:before {content: \"▾\";}#sk-container-id-1 div.sk-estimator input.sk-toggleable__control:checked~label.sk-toggleable__label {background-color: #d4ebff;}#sk-container-id-1 div.sk-label input.sk-toggleable__control:checked~label.sk-toggleable__label {background-color: #d4ebff;}#sk-container-id-1 input.sk-hidden--visually {border: 0;clip: rect(1px 1px 1px 1px);clip: rect(1px, 1px, 1px, 1px);height: 1px;margin: -1px;overflow: hidden;padding: 0;position: absolute;width: 1px;}#sk-container-id-1 div.sk-estimator {font-family: monospace;background-color: #f0f8ff;border: 1px dotted black;border-radius: 0.25em;box-sizing: border-box;margin-bottom: 0.5em;}#sk-container-id-1 div.sk-estimator:hover {background-color: #d4ebff;}#sk-container-id-1 div.sk-parallel-item::after {content: \"\";width: 100%;border-bottom: 1px solid gray;flex-grow: 1;}#sk-container-id-1 div.sk-label:hover label.sk-toggleable__label {background-color: #d4ebff;}#sk-container-id-1 div.sk-serial::before {content: \"\";position: absolute;border-left: 1px solid gray;box-sizing: border-box;top: 0;bottom: 0;left: 50%;z-index: 0;}#sk-container-id-1 div.sk-serial {display: flex;flex-direction: column;align-items: center;background-color: white;padding-right: 0.2em;padding-left: 0.2em;position: relative;}#sk-container-id-1 div.sk-item {position: relative;z-index: 1;}#sk-container-id-1 div.sk-parallel {display: flex;align-items: stretch;justify-content: center;background-color: white;position: relative;}#sk-container-id-1 div.sk-item::before, #sk-container-id-1 div.sk-parallel-item::before {content: \"\";position: absolute;border-left: 1px solid gray;box-sizing: border-box;top: 0;bottom: 0;left: 50%;z-index: -1;}#sk-container-id-1 div.sk-parallel-item {display: flex;flex-direction: column;z-index: 1;position: relative;background-color: white;}#sk-container-id-1 div.sk-parallel-item:first-child::after {align-self: flex-end;width: 50%;}#sk-container-id-1 div.sk-parallel-item:last-child::after {align-self: flex-start;width: 50%;}#sk-container-id-1 div.sk-parallel-item:only-child::after {width: 0;}#sk-container-id-1 div.sk-dashed-wrapped {border: 1px dashed gray;margin: 0 0.4em 0.5em 0.4em;box-sizing: border-box;padding-bottom: 0.4em;background-color: white;}#sk-container-id-1 div.sk-label label {font-family: monospace;font-weight: bold;display: inline-block;line-height: 1.2em;}#sk-container-id-1 div.sk-label-container {text-align: center;}#sk-container-id-1 div.sk-container {/* jupyter's `normalize.less` sets `[hidden] { display: none; }` but bootstrap.min.css set `[hidden] { display: none !important; }` so we also need the `!important` here to be able to override the default hidden behavior on the sphinx rendered scikit-learn.org. See: https://github.com/scikit-learn/scikit-learn/issues/21755 */display: inline-block !important;position: relative;}#sk-container-id-1 div.sk-text-repr-fallback {display: none;}</style><div id=\"sk-container-id-1\" class=\"sk-top-container\"><div class=\"sk-text-repr-fallback\"><pre>DecisionTreeClassifier(max_depth=3)</pre><b>In a Jupyter environment, please rerun this cell to show the HTML representation or trust the notebook. <br />On GitHub, the HTML representation is unable to render, please try loading this page with nbviewer.org.</b></div><div class=\"sk-container\" hidden><div class=\"sk-item\"><div class=\"sk-estimator sk-toggleable\"><input class=\"sk-toggleable__control sk-hidden--visually\" id=\"sk-estimator-id-1\" type=\"checkbox\" checked><label for=\"sk-estimator-id-1\" class=\"sk-toggleable__label sk-toggleable__label-arrow\">DecisionTreeClassifier</label><div class=\"sk-toggleable__content\"><pre>DecisionTreeClassifier(max_depth=3)</pre></div></div></div></div></div>"
            ]
          },
          "metadata": {},
          "execution_count": 30
        }
      ]
    },
    {
      "cell_type": "code",
      "source": [
        "from sklearn import tree\n",
        "plt.figure(figsize=(12, 8))\n",
        "tree.plot_tree(treemodel, filled=True)"
      ],
      "metadata": {
        "colab": {
          "base_uri": "https://localhost:8080/",
          "height": 913
        },
        "id": "wvRtezTGzbr-",
        "outputId": "adc90853-76f6-40cb-8d6a-fc84581eec77"
      },
      "execution_count": 33,
      "outputs": [
        {
          "output_type": "execute_result",
          "data": {
            "text/plain": [
              "[Text(0.5, 0.875, 'x[47] <= -0.907\\ngini = 0.5\\nsamples = 8000\\nvalue = [4012, 3988]'),\n",
              " Text(0.25, 0.625, 'x[4] <= 1.185\\ngini = 0.082\\nsamples = 2368\\nvalue = [101, 2267]'),\n",
              " Text(0.125, 0.375, 'x[38] <= 1.108\\ngini = 0.066\\nsamples = 2342\\nvalue = [80, 2262]'),\n",
              " Text(0.0625, 0.125, 'gini = 0.049\\nsamples = 2289\\nvalue = [58, 2231]'),\n",
              " Text(0.1875, 0.125, 'gini = 0.486\\nsamples = 53\\nvalue = [22, 31]'),\n",
              " Text(0.375, 0.375, 'x[24] <= 1.06\\ngini = 0.311\\nsamples = 26\\nvalue = [21, 5]'),\n",
              " Text(0.3125, 0.125, 'gini = 0.087\\nsamples = 22\\nvalue = [21, 1]'),\n",
              " Text(0.4375, 0.125, 'gini = 0.0\\nsamples = 4\\nvalue = [0, 4]'),\n",
              " Text(0.75, 0.625, 'x[26] <= -0.703\\ngini = 0.424\\nsamples = 5632\\nvalue = [3911, 1721]'),\n",
              " Text(0.625, 0.375, 'x[29] <= -0.948\\ngini = 0.302\\nsamples = 1862\\nvalue = [345, 1517]'),\n",
              " Text(0.5625, 0.125, 'gini = 0.456\\nsamples = 259\\nvalue = [168, 91]'),\n",
              " Text(0.6875, 0.125, 'gini = 0.196\\nsamples = 1603\\nvalue = [177, 1426]'),\n",
              " Text(0.875, 0.375, 'x[34] <= 0.693\\ngini = 0.102\\nsamples = 3770\\nvalue = [3566, 204]'),\n",
              " Text(0.8125, 0.125, 'gini = 0.052\\nsamples = 3640\\nvalue = [3542, 98]'),\n",
              " Text(0.9375, 0.125, 'gini = 0.301\\nsamples = 130\\nvalue = [24, 106]')]"
            ]
          },
          "metadata": {},
          "execution_count": 33
        },
        {
          "output_type": "display_data",
          "data": {
            "text/plain": [
              "<Figure size 1200x800 with 1 Axes>"
            ],
            "image/png": "[encoded data removed]"
          },
          "metadata": {}
        }
      ]
    },
    {
      "cell_type": "code",
      "source": [
        "#prediction\n",
        "y_pred = treemodel.predict(X_test)"
      ],
      "metadata": {
        "id": "9j-dO5TA0IEI"
      },
      "execution_count": 34,
      "outputs": []
    },
    {
      "cell_type": "code",
      "source": [
        "y_pred"
      ],
      "metadata": {
        "colab": {
          "base_uri": "https://localhost:8080/"
        },
        "id": "YRnNGynP0H2v",
        "outputId": "8586bbe4-0947-4776-d485-18c3c627c6c6"
      },
      "execution_count": 35,
      "outputs": [
        {
          "output_type": "execute_result",
          "data": {
            "text/plain": [
              "array([0, 1, 1, ..., 0, 1, 0])"
            ]
          },
          "metadata": {},
          "execution_count": 35
        }
      ]
    },
    {
      "cell_type": "code",
      "source": [
        "from sklearn.metrics import accuracy_score,classification_report\n",
        "score = accuracy_score(y_pred, y_test)\n",
        "print(score)"
      ],
      "metadata": {
        "colab": {
          "base_uri": "https://localhost:8080/"
        },
        "id": "svpc7sIq0Tmv",
        "outputId": "6e41fdc3-3247-4df0-a7ff-cef6301f0d44"
      },
      "execution_count": 36,
      "outputs": [
        {
          "output_type": "stream",
          "name": "stdout",
          "text": [
            "0.9465\n"
          ]
        }
      ]
    },
    {
      "cell_type": "code",
      "source": [
        "print(classification_report(y_pred, y_test))"
      ],
      "metadata": {
        "colab": {
          "base_uri": "https://localhost:8080/"
        },
        "id": "SbkrC1Jl0TaK",
        "outputId": "8e742a27-77c3-4521-c90d-fbaaaa6bb374"
      },
      "execution_count": 37,
      "outputs": [
        {
          "output_type": "stream",
          "name": "stdout",
          "text": [
            "              precision    recall  f1-score   support\n",
            "\n",
            "           0       0.94      0.95      0.95       977\n",
            "           1       0.95      0.94      0.95      1023\n",
            "\n",
            "    accuracy                           0.95      2000\n",
            "   macro avg       0.95      0.95      0.95      2000\n",
            "weighted avg       0.95      0.95      0.95      2000\n",
            "\n"
          ]
        }
      ]
    },
    {
      "cell_type": "code",
      "source": [
        "# Heatmap\n",
        "conf_matrix = confusion_matrix(y_test, y_pred)\n",
        "sns.heatmap(conf_matrix, annot=True, cmap='Blues')"
      ],
      "metadata": {
        "colab": {
          "base_uri": "https://localhost:8080/",
          "height": 447
        },
        "id": "PLDt3xDO0pM3",
        "outputId": "8c2d3b5d-5c5a-45db-ce92-04a89e234fa5"
      },
      "execution_count": 39,
      "outputs": [
        {
          "output_type": "execute_result",
          "data": {
            "text/plain": [
              "<Axes: >"
            ]
          },
          "metadata": {},
          "execution_count": 39
        },
        {
          "output_type": "display_data",
          "data": {
            "text/plain": [
              "<Figure size 640x480 with 2 Axes>"
            ],
            "image/png": "[encoded data removed]"
          },
          "metadata": {}
        }
      ]
    }
  ]
}